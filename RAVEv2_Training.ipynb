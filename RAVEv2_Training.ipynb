{
  "nbformat": 4,
  "nbformat_minor": 0,
  "metadata": {
    "colab": {
      "provenance": [],
      "include_colab_link": true
    },
    "kernelspec": {
      "name": "python3",
      "display_name": "Python 3"
    },
    "language_info": {
      "name": "python"
    },
    "accelerator": "GPU",
    "gpuClass": "standard"
  },
  "cells": [
    {
      "cell_type": "markdown",
      "metadata": {
        "id": "view-in-github",
        "colab_type": "text"
      },
      "source": [
        "<a href=\"https://colab.research.google.com/github/nnokes/NOC-S17-2-Intelligence-Learning/blob/master/RAVEv2_Training.ipynb\" target=\"_parent\"><img src=\"https://colab.research.google.com/assets/colab-badge.svg\" alt=\"Open In Colab\"/></a>"
      ]
    },
    {
      "cell_type": "code",
      "source": [
        "#@title README\n",
        "!yes | pip install --quiet pyfiglet\n",
        "\n",
        "import pyfiglet\n",
        "\n",
        "resulta = pyfiglet.figlet_format(f\"RAVE\", font = \"isometric1\", )\n",
        "resultb = pyfiglet.figlet_format(f\"v2\", font = \"isometric2\", )\n",
        "print(resulta)\n",
        "# print(resultb)\n",
        "print(\"\\n\")\n",
        "print(\"\\n\")\n",
        "print(\"RAVE: Realtime Audio Variational autoEncoder | Authors: Antoine Caillon, Acids-IRCAM | https://github.com/acids-ircam/RAVE | https://arxiv.org/abs/2111.05011\")\n",
        "print(\"Custom collab implementation by Moisés Horta | http://twitter.com/hexorcismos | http://github.com/moiseshorta\")\n",
        "print(\"\\n\")\n",
        "print(\"Last Modified: 19.06.2023\")"
      ],
      "metadata": {
        "cellView": "form",
        "id": "cnYbi3A5Zdxr",
        "colab": {
          "base_uri": "https://localhost:8080/"
        },
        "outputId": "7cdd0853-84f2-4fba-c7a5-2c8761c6678d"
      },
      "execution_count": null,
      "outputs": [
        {
          "output_type": "stream",
          "name": "stdout",
          "text": [
            "      ___           ___           ___           ___     \n",
            "     /\\  \\         /\\  \\         /\\__\\         /\\  \\    \n",
            "    /::\\  \\       /::\\  \\       /:/  /        /::\\  \\   \n",
            "   /:/\\:\\  \\     /:/\\:\\  \\     /:/  /        /:/\\:\\  \\  \n",
            "  /::\\~\\:\\  \\   /::\\~\\:\\  \\   /:/__/  ___   /::\\~\\:\\  \\ \n",
            " /:/\\:\\ \\:\\__\\ /:/\\:\\ \\:\\__\\  |:|  | /\\__\\ /:/\\:\\ \\:\\__\\\n",
            " \\/_|::\\/:/  / \\/__\\:\\/:/  /  |:|  |/:/  / \\:\\~\\:\\ \\/__/\n",
            "    |:|::/  /       \\::/  /   |:|__/:/  /   \\:\\ \\:\\__\\  \n",
            "    |:|\\/__/        /:/  /     \\::::/__/     \\:\\ \\/__/  \n",
            "    |:|  |         /:/  /       ~~~~          \\:\\__\\    \n",
            "     \\|__|         \\/__/                       \\/__/    \n",
            "\n",
            "\n",
            "\n",
            "\n",
            "\n",
            "RAVE: Realtime Audio Variational autoEncoder | Authors: Antoine Caillon, Acids-IRCAM | https://github.com/acids-ircam/RAVE | https://arxiv.org/abs/2111.05011\n",
            "Custom collab implementation by Moisés Horta | http://twitter.com/hexorcismos | http://github.com/moiseshorta\n",
            "\n",
            "\n",
            "Last Modified: 19.06.2023\n"
          ]
        }
      ]
    },
    {
      "cell_type": "code",
      "execution_count": null,
      "metadata": {
        "id": "_Rlc6DI7_Epj",
        "cellView": "form"
      },
      "outputs": [],
      "source": [
        "#@title Install Conda, RAVE and ffmpeg\n",
        "\n",
        "\n",
        "!curl -L https://repo.anaconda.com/miniconda/Miniconda3-py39_4.12.0-Linux-x86_64.sh -o miniconda.sh\n",
        "!chmod +x miniconda.sh\n",
        "!sh miniconda.sh -b -p /content/miniconda\n",
        "!/content/miniconda/bin/pip install --quiet acids-rave\n",
        "!/content/miniconda/bin/pip install --quiet --upgrade ipython ipykernel\n",
        "!/content/miniconda/bin/conda install ffmpeg"
      ]
    },
    {
      "cell_type": "code",
      "source": [
        "#@title Tensorboard for monitoring training\n",
        "\n",
        "logs_path = \"/path/to/rave/folder\"#@param {type:\"string\"}\n",
        "\n",
        "%cd $logs_path\n",
        "%load_ext tensorboard\n",
        "%tensorboard --logdir . --bind_all"
      ],
      "metadata": {
        "id": "B81jNhVUAKJ0",
        "cellView": "form"
      },
      "execution_count": null,
      "outputs": []
    },
    {
      "cell_type": "code",
      "source": [
        "#@title Training\n",
        "dataset = \"/path/to/audio/dataset\" #@param {type:\"string\"}\n",
        "name = \"name_of_run\" #@param {type:\"string\"}\n",
        "save_dir = \"/path/to/save/checkpoints\" #@param {type:\"string\"}\n",
        "architecture = \"v2\" #@param [\"v3\", \"v2\", \"v1\", \"discrete\", \"onnx\", \"raspberry\" ]\n",
        "regularization = \"wasserstein\" #@param [\"default\", \"wasserstein\", \"spherical\"]\n",
        "\n",
        "\n",
        "%cd /content/\n",
        "!mkdir dataset\n",
        "%cd $save_dir\n",
        "preprocessed_dataset = \"/content/dataset\"\n",
        "\n",
        "# !/content/miniconda/bin/rave train --helpfull\n",
        "if regularization == \"default\":\n",
        "  !/content/miniconda/bin/rave preprocess --input_path $dataset --output_path $preprocessed_dataset\n",
        "  !/content/miniconda/bin/rave train --config $architecture --db_path $preprocessed_dataset --name $name --val_every 2500\n",
        "else:\n",
        "  !/content/miniconda/bin/rave preprocess --input_path $dataset --output_path $preprocessed_dataset\n",
        "  !/content/miniconda/bin/rave train --config $architecture --config $regularization --db_path $preprocessed_dataset --name $name --val_every 2500"
      ],
      "metadata": {
        "id": "iZ6ECduhA2_Q",
        "cellView": "form"
      },
      "execution_count": null,
      "outputs": []
    },
    {
      "cell_type": "code",
      "source": [
        "#@title Resume Training\n",
        "\n",
        "#@title Training\n",
        "dataset = \"/path/to/audio/dataset\" #@param {type:\"string\"}\n",
        "name = \"run_name\" #@param {type:\"string\"}\n",
        "save_dir = \"/path/to/save/checkpoints\" #@param {type:\"string\"}\n",
        "architecture = \"v2\" #@param [\"v3\", \"v2\", \"v1\", \"discrete\", \"onnx\", \"raspberry\" ]\n",
        "regularization = \"wasserstein\" #@param [\"default\", \"wasserstein\", \"spherical\"]\n",
        "resume = \"/path/to/rave/checkpoint.ckpt\" #@param {type:\"string\"}\n",
        "\n",
        "\n",
        "%cd /content/\n",
        "!mkdir dataset\n",
        "%cd $save_dir\n",
        "preprocessed_dataset = \"/content/dataset\"\n",
        "\n",
        "# !/content/miniconda/bin/rave train --helpfull\n",
        "if regularization == \"default\":\n",
        "  !/content/miniconda/bin/rave preprocess --input_path $dataset --output_path $preprocessed_dataset\n",
        "  !/content/miniconda/bin/rave train --config $architecture --db_path $preprocessed_dataset --name $name --ckpt $resume --val_every 2500\n",
        "else:\n",
        "  !/content/miniconda/bin/rave preprocess --input_path $dataset --output_path $preprocessed_dataset\n",
        "  !/content/miniconda/bin/rave train --config $architecture --config $regularization--db_path $preprocessed_dataset --name $name --ckpt $resume --val_every 2500"
      ],
      "metadata": {
        "cellView": "form",
        "id": "s3ne3LYOan78"
      },
      "execution_count": null,
      "outputs": []
    },
    {
      "cell_type": "code",
      "source": [
        "#@title Export as torchscript (.ts)\n",
        "\n",
        "model_dir = \"/path/to/trained/rave/run\" #@param {type:\"string\"}\n",
        "\n",
        "\n",
        "!/content/miniconda/bin/rave export --run $model_dir --streaming --stereo --fidelity 0.999"
      ],
      "metadata": {
        "cellView": "form",
        "id": "HOxU6HKzQ3UM"
      },
      "execution_count": null,
      "outputs": []
    }
  ]
}